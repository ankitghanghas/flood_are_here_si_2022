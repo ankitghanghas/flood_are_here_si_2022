{
 "cells": [
  {
   "cell_type": "code",
   "execution_count": 1,
   "metadata": {},
   "outputs": [],
   "source": [
    "import geopandas as gpd\n",
    "import rasterio as rio"
   ]
  },
  {
   "cell_type": "code",
   "execution_count": 2,
   "metadata": {},
   "outputs": [],
   "source": [
    "# open and store rasters\n",
    "compound_inun = rio.open('data_github/compound_inun.tif','r')\n",
    "riv_inun = rio.open('data_github/030202_201809190900_depth_map_projUTM18n.tif','r')\n",
    "surge_inun = rio.open('data_github/florence_surge_max_compr_lzw.tif','r')"
   ]
  },
  {
   "cell_type": "code",
   "execution_count": 3,
   "metadata": {},
   "outputs": [],
   "source": [
    "# read points from shapefiles\n",
    "\n",
    "# riverine high water marks\n",
    "val_riv = gpd.read_file('data_github/shp/HWM.shp')\n",
    "val_riv.index = range(len(val_riv))\n",
    "pts_riv = val_riv.to_crs('epsg:26918').geometry\n",
    "coords_utm_riv = [(pt.xy[0][0], pt.xy[1][0]) for pt in pts_riv]\n",
    "\n",
    "# surge peak water level\n",
    "val_surge = gpd.read_file('data_github/shp/Peak_water_level.shp')\n",
    "val_surge.index = range(len(val_surge))\n",
    "pts_surge = val_surge.to_crs('epsg:26918').geometry\n",
    "coords_utm_surge = [(pt.xy[0][0], pt.xy[1][0]) for pt in pts_surge]"
   ]
  },
  {
   "cell_type": "code",
   "execution_count": 4,
   "metadata": {},
   "outputs": [],
   "source": [
    "# Sample rasters at every point location and store values in geopandas dataframes\n",
    "\n",
    "# riverine\n",
    "val_riv['compound_inun value'] = [x[0] for x in compound_inun.sample(coords_utm_riv)]\n",
    "val_riv['riv_inun value'] = [x[0] for x in riv_inun.sample(coords_utm_riv)]\n",
    "val_riv['surge_inun value'] = [x[0] for x in surge_inun.sample(coords_utm_riv)]\n",
    "\n",
    "# surge\n",
    "val_surge['compound_inun value'] = [x[0] for x in compound_inun.sample(coords_utm_surge)]\n",
    "val_surge['riv_inun value'] = [x[0] for x in riv_inun.sample(coords_utm_surge)]\n",
    "val_surge['surge_inun value'] = [x[0] for x in surge_inun.sample(coords_utm_surge)]"
   ]
  },
  {
   "cell_type": "code",
   "execution_count": 5,
   "metadata": {},
   "outputs": [
    {
     "name": "stderr",
     "output_type": "stream",
     "text": [
      "C:\\Software\\Anaconda\\Temp/ipykernel_393244/1824908753.py:1: UserWarning: Column names longer than 10 characters will be truncated when saved to ESRI Shapefile.\n",
      "  val_riv.to_file('data_github/shp/HWM_joined.shp')\n",
      "C:\\Software\\Anaconda\\Temp/ipykernel_393244/1824908753.py:2: UserWarning: Column names longer than 10 characters will be truncated when saved to ESRI Shapefile.\n",
      "  val_surge.to_file('data_github/shp/Peak_water_level_joined.shp')\n"
     ]
    }
   ],
   "source": [
    "val_riv.to_file('data_github/shp/HWM_joined.shp')\n",
    "val_surge.to_file('data_github/shp/Peak_water_level_joined.shp')"
   ]
  }
 ],
 "metadata": {
  "kernelspec": {
   "display_name": "Python 3.9.6 ('py39': conda)",
   "language": "python",
   "name": "python3"
  },
  "language_info": {
   "codemirror_mode": {
    "name": "ipython",
    "version": 3
   },
   "file_extension": ".py",
   "mimetype": "text/x-python",
   "name": "python",
   "nbconvert_exporter": "python",
   "pygments_lexer": "ipython3",
   "version": "3.9.6"
  },
  "orig_nbformat": 4,
  "vscode": {
   "interpreter": {
    "hash": "3753184119259c2a1c0cad55aa5cc8332d7ec446979ada003013bc6c876eea44"
   }
  }
 },
 "nbformat": 4,
 "nbformat_minor": 2
}
