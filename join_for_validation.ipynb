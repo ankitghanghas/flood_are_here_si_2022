{
 "cells": [
  {
   "cell_type": "code",
   "execution_count": 1,
   "metadata": {},
   "outputs": [],
   "source": [
    "import geopandas as gpd\n",
    "import numpy as np\n",
    "import rasterio as rio"
   ]
  },
  {
   "cell_type": "code",
   "execution_count": 2,
   "metadata": {},
   "outputs": [],
   "source": [
    "# helper functions for data cleaning and analysis\n",
    "\n",
    "# remove infinite values generated from dividing by 0\n",
    "def filter_inf(series):\n",
    "    series = series[series != np.inf]\n",
    "    return series\n",
    "\n",
    "def get_points(gpd_df, dest_crs):\n",
    "    pts = gpd_df.to_crs(dest_crs).geometry\n",
    "    coords = [(pt.xy[0][0], pt.xy[1][0]) for pt in pts]\n",
    "    return coords\n",
    "\n",
    "def sample_rio_ds(rio_ds, coords):\n",
    "    sampled_vals = np.array([x[0] for x in rio_ds.sample(coords)])\n",
    "    # clean bad values from unfiltered DEM\n",
    "    sampled_vals[sampled_vals < 0] = 0\n",
    "    sampled_vals[sampled_vals > 3.4e+38] = np.nan\n",
    "    return sampled_vals\n",
    "\n",
    "def ft_to_m(series):\n",
    "    return series * 0.3048\n",
    "\n",
    "def percent_bias(predicted, observed):\n",
    "    return 100*((predicted - observed) / observed)"
   ]
  },
  {
   "cell_type": "code",
   "execution_count": 3,
   "metadata": {},
   "outputs": [],
   "source": [
    "# open and store rasters\n",
    "compound_inun = rio.open('data_github/compound_inun.tif','r')\n",
    "riv_inun = rio.open('data_github/030202_201809190900_depth_map_projUTM18n.tif','r')\n",
    "surge_inun = rio.open('data_github/florence_surge_max_compr_lzw.tif','r')\n",
    "dem = rio.open('data_github/nc_roi_huc6.tif')"
   ]
  },
  {
   "cell_type": "code",
   "execution_count": 4,
   "metadata": {},
   "outputs": [],
   "source": [
    "# read points from shapefiles\n",
    "# EPSG:26918 is UTM Zone 18N for North Carolina\n",
    "# riverine high water marks\n",
    "\n",
    "val_riv = gpd.read_file('data_github/shp/HWM.shp')\n",
    "val_riv.index = range(len(val_riv))\n",
    "coords_utm_riv = get_points(val_riv, 'epsg:26918') \n",
    "\n",
    "val_surge = gpd.read_file('data_github/shp/Peak_water_level.shp')\n",
    "val_surge.index = range(len(val_surge))\n",
    "coords_utm_surge = get_points(val_surge, 'epsg:26918')"
   ]
  },
  {
   "cell_type": "code",
   "execution_count": 5,
   "metadata": {},
   "outputs": [],
   "source": [
    "# Sample rasters at every point location and store values in geopandas dataframes\n",
    "\n",
    "# sample rasters at riverine HWM shapefile points\n",
    "val_riv['compound_inun_m_surf'] = sample_rio_ds(compound_inun, coords_utm_riv)\n",
    "val_riv['riv_inun_m_surf'] = sample_rio_ds(riv_inun, coords_utm_riv)\n",
    "val_riv['surge_inun_m_surf'] = sample_rio_ds(surge_inun, coords_utm_riv)\n",
    "val_riv['dem'] = sample_rio_ds(dem, coords_utm_riv)\n",
    "\n",
    "# add surface elevation to obtain height above NAVD88\n",
    "val_riv['compound_inun_m_navd88'] = val_riv['compound_inun_m_surf'] + val_riv['dem']\n",
    "val_riv['riv_inun_m_navd88'] = val_riv['riv_inun_m_surf'] + val_riv['dem']\n",
    "val_riv['surge_inun_m_navd88'] = val_riv['surge_inun_m_surf'] + val_riv['dem']\n",
    "\n",
    "# sample rasters at surge PWL shapefile points\n",
    "val_surge['compound_inun_m_surf'] = sample_rio_ds(compound_inun, coords_utm_surge)\n",
    "val_surge['riv_inun_m_surf'] = sample_rio_ds(riv_inun, coords_utm_surge)\n",
    "val_surge['surge_inun_m_surf'] = sample_rio_ds(surge_inun, coords_utm_surge)\n",
    "val_surge['dem'] = sample_rio_ds(dem, coords_utm_surge)\n",
    "\n",
    "# add surface elevation to obtain height above NAVD88\n",
    "val_surge['compound_inun_m_navd88'] = val_surge['compound_inun_m_surf'] + val_surge['dem']\n",
    "val_surge['riv_inun_m_navd88'] = val_surge['riv_inun_m_surf'] + val_surge['dem']\n",
    "val_surge['surge_inun_m_navd88'] = val_surge['surge_inun_m_surf'] + val_surge['dem']"
   ]
  },
  {
   "cell_type": "code",
   "execution_count": 6,
   "metadata": {},
   "outputs": [],
   "source": [
    "## riverine\n",
    "# convert ft to m\n",
    "val_riv['hwm_m_above_surf'] = ft_to_m(val_riv['height_abo'])\n",
    "val_riv['hwm_m_above_navd88'] = ft_to_m(val_riv['elev_ft'])\n",
    "# calculate percent bias\n",
    "# above surface\n",
    "val_riv['hwm_compound_PB_surf'] = percent_bias(val_riv['compound_inun_m_surf'], val_riv['hwm_m_above_surf'])\n",
    "val_riv['hwm_riv_PB_surf'] = percent_bias(val_riv['riv_inun_m_surf'], val_riv['hwm_m_above_surf'])\n",
    "val_riv['hwm_surge_PB_surf'] = percent_bias(val_riv['surge_inun_m_surf'], val_riv['hwm_m_above_surf'])\n",
    "\n",
    "# above navd88\n",
    "val_riv['hwm_compound_PB_navd88'] = percent_bias(val_riv['compound_inun_m_navd88'], val_riv['hwm_m_above_navd88']) \n",
    "val_riv['hwm_riv_PB_navd88'] = percent_bias(val_riv['riv_inun_m_navd88'], val_riv['hwm_m_above_navd88']) \n",
    "val_riv['hwm_surge_PB_navd88'] = percent_bias(val_riv['surge_inun_m_navd88'], val_riv['hwm_m_above_navd88']) \n",
    "# remove infinite values from dividing by 0\n",
    "val_riv['hwm_compound_PB_surf'] = filter_inf(val_riv['hwm_compound_PB_surf'])\n",
    "val_riv['hwm_riv_PB_surf'] = filter_inf(val_riv['hwm_riv_PB_surf'])\n",
    "val_riv['hwm_surge_PB_surf'] = filter_inf(val_riv['hwm_surge_PB_surf'])\n",
    "val_riv['hwm_compound_PB_navd88'] = filter_inf(val_riv['hwm_compound_PB_navd88'])\n",
    "val_riv['hwm_riv_PB_navd88'] = filter_inf(val_riv['hwm_riv_PB_navd88'])\n",
    "val_riv['hwm_surge_PB_navd88'] = filter_inf(val_riv['hwm_surge_PB_navd88'])\n",
    "\n",
    "## surge\n",
    "# convert ft to m\n",
    "val_surge['pwl_m_above_navd88'] = ft_to_m(val_surge['peak_stage'])\n",
    "# calculate percent error\n",
    "val_surge['pwl_compound_PB_navd88'] = percent_bias(val_surge['compound_inun_m_navd88'], val_surge['pwl_m_above_navd88']) \n",
    "val_surge['pwl_riv_PB_navd88'] = percent_bias(val_surge['riv_inun_m_navd88'], val_surge['pwl_m_above_navd88']) \n",
    "val_surge['pwl_surge_PB_navd88'] = percent_bias(val_surge['surge_inun_m_navd88'], val_surge['pwl_m_above_navd88']) \n",
    "val_surge['pwl_compound_PB_navd88'] = filter_inf(val_surge['pwl_compound_PB_navd88'])\n",
    "val_surge['pwl_riv_PB_navd88'] = filter_inf(val_surge['pwl_riv_PB_navd88'])\n",
    "val_surge['pwl_surge_PB_navd88'] = filter_inf(val_surge['pwl_surge_PB_navd88'])"
   ]
  },
  {
   "cell_type": "code",
   "execution_count": 7,
   "metadata": {},
   "outputs": [
    {
     "data": {
      "text/plain": [
       "array([[<AxesSubplot:title={'center':'hwm_compound_PB_navd88'}>]],\n",
       "      dtype=object)"
      ]
     },
     "execution_count": 7,
     "metadata": {},
     "output_type": "execute_result"
    },
    {
     "data": {
      "image/png": "[encoded data removed]",
      "text/plain": [
       "<Figure size 432x288 with 1 Axes>"
      ]
     },
     "metadata": {
      "needs_background": "light"
     },
     "output_type": "display_data"
    }
   ],
   "source": [
    "val_riv.hist(\n",
    "    column = [\n",
    "        'hwm_compound_PB_navd88',\n",
    "        # 'hwm_riv_PB_navd88',\n",
    "        # 'hwm_surge_PB_navd88'\n",
    "    ],\n",
    "    )"
   ]
  },
  {
   "cell_type": "code",
   "execution_count": 8,
   "metadata": {},
   "outputs": [
    {
     "data": {
      "text/plain": [
       "<AxesSubplot:>"
      ]
     },
     "execution_count": 8,
     "metadata": {},
     "output_type": "execute_result"
    },
    {
     "data": {
      "image/png": "[encoded data removed]",
      "text/plain": [
       "<Figure size 432x288 with 1 Axes>"
      ]
     },
     "metadata": {
      "needs_background": "light"
     },
     "output_type": "display_data"
    }
   ],
   "source": [
    "val_riv.boxplot(\n",
    "    column = [\n",
    "        'hwm_compound_PB_navd88',\n",
    "        'hwm_riv_PB_navd88',\n",
    "        # 'hwm_surge_PB_navd88'\n",
    "    ],\n",
    "    showfliers = False\n",
    "    )"
   ]
  },
  {
   "cell_type": "code",
   "execution_count": 9,
   "metadata": {},
   "outputs": [
    {
     "data": {
      "text/plain": [
       "array([[<AxesSubplot:title={'center':'pwl_compound_PB_navd88'}>]],\n",
       "      dtype=object)"
      ]
     },
     "execution_count": 9,
     "metadata": {},
     "output_type": "execute_result"
    },
    {
     "data": {
      "image/png": "[encoded data removed]",
      "text/plain": [
       "<Figure size 432x288 with 1 Axes>"
      ]
     },
     "metadata": {
      "needs_background": "light"
     },
     "output_type": "display_data"
    }
   ],
   "source": [
    "val_surge.hist(\n",
    "    column = [\n",
    "        'pwl_compound_PB_navd88',\n",
    "        # 'pwl_riv_PB_navd88',\n",
    "        # 'pwl_surge_PB_navd88'\n",
    "    ],\n",
    "    )"
   ]
  },
  {
   "cell_type": "code",
   "execution_count": 10,
   "metadata": {},
   "outputs": [
    {
     "data": {
      "text/plain": [
       "<AxesSubplot:>"
      ]
     },
     "execution_count": 10,
     "metadata": {},
     "output_type": "execute_result"
    },
    {
     "data": {
      "image/png": "[encoded data removed]",
      "text/plain": [
       "<Figure size 432x288 with 1 Axes>"
      ]
     },
     "metadata": {
      "needs_background": "light"
     },
     "output_type": "display_data"
    }
   ],
   "source": [
    "val_surge.boxplot(\n",
    "    column = [\n",
    "        'pwl_compound_PB_navd88',\n",
    "        # 'pwl_riv_PB_navd88',\n",
    "        'pwl_surge_PB_navd88'\n",
    "    ],\n",
    "    showfliers = False\n",
    "    )"
   ]
  },
  {
   "cell_type": "code",
   "execution_count": null,
   "metadata": {},
   "outputs": [],
   "source": []
  }
 ],
 "metadata": {
  "kernelspec": {
   "display_name": "Python 3.10.4 ('gis-env')",
   "language": "python",
   "name": "python3"
  },
  "language_info": {
   "codemirror_mode": {
    "name": "ipython",
    "version": 3
   },
   "file_extension": ".py",
   "mimetype": "text/x-python",
   "name": "python",
   "nbconvert_exporter": "python",
   "pygments_lexer": "ipython3",
   "version": "3.10.4"
  },
  "orig_nbformat": 4,
  "vscode": {
   "interpreter": {
    "hash": "48f3b9be3b5076e94cfc9ab84ea912a731edd81842a0d22e5457423048893ec1"
   }
  }
 },
 "nbformat": 4,
 "nbformat_minor": 2
}
