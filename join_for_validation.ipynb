{
 "cells": [
  {
   "cell_type": "code",
   "execution_count": 1,
   "metadata": {},
   "outputs": [],
   "source": [
    "import geopandas as gpd\n",
    "import numpy as np\n",
    "import rasterio as rio"
   ]
  },
  {
   "cell_type": "code",
   "execution_count": 2,
   "metadata": {},
   "outputs": [],
   "source": [
    "# open and store rasters\n",
    "compound_inun = rio.open('data_github/compound_inun.tif','r')\n",
    "riv_inun = rio.open('data_github/030202_201809190900_depth_map_projUTM18n.tif','r')\n",
    "surge_inun = rio.open('data_github/florence_surge_max_compr_lzw.tif','r')\n",
    "dem = rio.open('data_github/nc_roi_huc6.tif')"
   ]
  },
  {
   "cell_type": "code",
   "execution_count": 3,
   "metadata": {},
   "outputs": [],
   "source": [
    "# read points from shapefiles\n",
    "\n",
    "# riverine high water marks\n",
    "val_riv = gpd.read_file('data_github/shp/HWM.shp')\n",
    "val_riv.index = range(len(val_riv))\n",
    "pts_riv = val_riv.to_crs('epsg:26918').geometry\n",
    "coords_utm_riv = [(pt.xy[0][0], pt.xy[1][0]) for pt in pts_riv]\n",
    "\n",
    "# surge peak water level\n",
    "val_surge = gpd.read_file('data_github/shp/Peak_water_level.shp')\n",
    "val_surge.index = range(len(val_surge))\n",
    "pts_surge = val_surge.to_crs('epsg:26918').geometry\n",
    "coords_utm_surge = [(pt.xy[0][0], pt.xy[1][0]) for pt in pts_surge]"
   ]
  },
  {
   "cell_type": "code",
   "execution_count": 4,
   "metadata": {},
   "outputs": [],
   "source": [
    "# Sample rasters at every point location and store values in geopandas dataframes\n",
    "\n",
    "# riverine\n",
    "val_riv['compound_inun_m'] = [x[0] for x in compound_inun.sample(coords_utm_riv)]\n",
    "val_riv['riv_inun_m'] = [x[0] for x in riv_inun.sample(coords_utm_riv)]\n",
    "val_riv['surge_inun_m'] = [x[0] for x in surge_inun.sample(coords_utm_riv)]\n",
    "val_riv['dem'] = [x[0] for x in dem.sample(coords_utm_riv)]\n",
    "\n",
    "# surge\n",
    "val_surge['compound_inun_m'] = [x[0] for x in compound_inun.sample(coords_utm_surge)]\n",
    "val_surge['riv_inun_m'] = [x[0] for x in riv_inun.sample(coords_utm_surge)]\n",
    "val_surge['surge_inun_m'] = [x[0] for x in surge_inun.sample(coords_utm_surge)]\n",
    "val_surge['dem'] = [x[0] for x in dem.sample(coords_utm_surge)]"
   ]
  },
  {
   "cell_type": "code",
   "execution_count": 5,
   "metadata": {},
   "outputs": [],
   "source": [
    "# val_riv.to_excel('data_github/HWM_joined.xlsx')\n",
    "# val_surge.to_excel('data_github/Peak_water_level_joined.xlsx')"
   ]
  },
  {
   "cell_type": "code",
   "execution_count": 6,
   "metadata": {},
   "outputs": [],
   "source": [
    "## riverine\n",
    "\n",
    "# convert ft to m\n",
    "val_riv['hwm_m_above_navd88'] = val_riv['height_abo'] * 0.3048\n",
    "\n",
    "# calculate percent error\n",
    "val_riv['hwm_compound_inun_diff'] = (val_riv['hwm_m_above_navd88'] - val_riv['compound_inun_m']).abs() / val_riv['compound_inun_m']\n",
    "val_riv['hwm_riv_inun_diff'] = (val_riv['hwm_m_above_navd88'] - val_riv['riv_inun_m']).abs() / val_riv['riv_inun_m']\n",
    "val_riv['hwm_surge_inun_diff'] = (val_riv['hwm_m_above_navd88'] - val_riv['surge_inun_m']).abs() / val_riv['surge_inun_m']\n",
    "\n",
    "# remove infinite values from div by 0\n",
    "val_riv['hwm_compound_inun_diff'] = val_riv['hwm_compound_inun_diff'][val_riv['hwm_compound_inun_diff'] != np.inf]\n",
    "val_riv['hwm_riv_inun_diff'] = val_riv['hwm_riv_inun_diff'][val_riv['hwm_riv_inun_diff'] != np.inf]\n",
    "val_riv['hwm_surge_inun_diff'] = val_riv['hwm_surge_inun_diff'][val_riv['hwm_surge_inun_diff'] != np.inf]\n",
    "\n",
    "## surge\n",
    "\n",
    "# convert ft to m\n",
    "val_surge['pwm_m_navd88'] = val_surge['peak_stage'] * 0.3048\n",
    "\n",
    "# calculate percent error\n",
    "val_surge['pwl_compound_inun_diff'] = (val_surge['pwm_m_navd88'] - val_surge['compound_inun_m']).abs() / val_surge['compound_inun_m']\n",
    "val_surge['pwl_riv_inun_diff'] = (val_surge['pwm_m_navd88'] - val_surge['riv_inun_m']).abs() / val_surge['riv_inun_m']\n",
    "val_surge['pwl_surge_inun_diff'] = (val_surge['pwm_m_navd88'] - val_surge['surge_inun_m']).abs() / val_surge['surge_inun_m']\n",
    "\n",
    "# remove infinite values from div by 0\n",
    "val_surge['pwl_compound_inun_diff'] = val_surge['pwl_compound_inun_diff'][val_surge['pwl_compound_inun_diff'] != np.inf]\n",
    "val_surge['pwl_riv_inun_diff'] = val_surge['pwl_riv_inun_diff'][val_surge['pwl_riv_inun_diff'] != np.inf]\n",
    "val_surge['pwl_surge_inun_diff'] = val_surge['pwl_surge_inun_diff'][val_surge['pwl_surge_inun_diff'] != np.inf]"
   ]
  },
  {
   "cell_type": "code",
   "execution_count": 14,
   "metadata": {},
   "outputs": [
    {
     "data": {
      "text/plain": [
       "<AxesSubplot:>"
      ]
     },
     "execution_count": 14,
     "metadata": {},
     "output_type": "execute_result"
    },
    {
     "data": {
      "image/png": "[encoded data removed]",
      "text/plain": [
       "<Figure size 432x288 with 1 Axes>"
      ]
     },
     "metadata": {
      "needs_background": "light"
     },
     "output_type": "display_data"
    }
   ],
   "source": [
    "val_riv.boxplot(\n",
    "    column = [\n",
    "        'hwm_compound_inun_diff',\n",
    "        'hwm_riv_inun_diff',\n",
    "        # 'hwm_surge_inun_diff'\n",
    "    ],\n",
    "    showfliers = False\n",
    "    )"
   ]
  },
  {
   "cell_type": "code",
   "execution_count": 13,
   "metadata": {},
   "outputs": [
    {
     "data": {
      "text/plain": [
       "<AxesSubplot:>"
      ]
     },
     "execution_count": 13,
     "metadata": {},
     "output_type": "execute_result"
    },
    {
     "data": {
      "image/png": "[encoded data removed]",
      "text/plain": [
       "<Figure size 432x288 with 1 Axes>"
      ]
     },
     "metadata": {
      "needs_background": "light"
     },
     "output_type": "display_data"
    }
   ],
   "source": [
    "val_surge.boxplot(\n",
    "    column = [\n",
    "        'pwl_compound_inun_diff',\n",
    "        # 'pwl_riv_inun_diff',\n",
    "        'pwl_surge_inun_diff'\n",
    "    ],\n",
    "    showfliers = False\n",
    "    )"
   ]
  },
  {
   "cell_type": "code",
   "execution_count": null,
   "metadata": {},
   "outputs": [],
   "source": [
    "val_riv.to_excel('val_riv.xlsx')"
   ]
  }
 ],
 "metadata": {
  "kernelspec": {
   "display_name": "Python 3.10.4 ('gis-env')",
   "language": "python",
   "name": "python3"
  },
  "language_info": {
   "codemirror_mode": {
    "name": "ipython",
    "version": 3
   },
   "file_extension": ".py",
   "mimetype": "text/x-python",
   "name": "python",
   "nbconvert_exporter": "python",
   "pygments_lexer": "ipython3",
   "version": "3.10.4"
  },
  "orig_nbformat": 4,
  "vscode": {
   "interpreter": {
    "hash": "48f3b9be3b5076e94cfc9ab84ea912a731edd81842a0d22e5457423048893ec1"
   }
  }
 },
 "nbformat": 4,
 "nbformat_minor": 2
}
