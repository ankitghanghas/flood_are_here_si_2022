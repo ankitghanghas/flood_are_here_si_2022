{
 "cells": [
  {
   "cell_type": "markdown",
   "metadata": {},
   "source": [
    "### Imports and configuration"
   ]
  },
  {
   "cell_type": "code",
   "execution_count": 1,
   "metadata": {},
   "outputs": [],
   "source": [
    "%matplotlib inline\n",
    "\n",
    "import matplotlib\n",
    "import matplotlib.pyplot as plt\n",
    "import numpy as np\n",
    "import rasterio as rio\n",
    "\n",
    "from rasterio.enums import Resampling\n",
    "\n",
    "matplotlib.rc('figure', dpi=150)\n",
    "\n",
    "binary_cmap = matplotlib.colors.ListedColormap(['green', 'blue'])\n",
    "confusion_cmap = matplotlib.colors.ListedColormap(['gray', 'green', 'red', 'blue'])"
   ]
  },
  {
   "cell_type": "markdown",
   "metadata": {},
   "source": [
    "### Helper functions"
   ]
  },
  {
   "cell_type": "code",
   "execution_count": 10,
   "metadata": {},
   "outputs": [],
   "source": [
    "# makes inundation depth array binary\n",
    "# 0 is not inundated and 1 is inundated\n",
    "def make_binary(in_array):\n",
    "    binary_array = in_array.copy().astype('uint8')\n",
    "    binary_array = np.where(binary_array <= int(0), int(0), int(1))\n",
    "    binary_array[binary_array==np.nan] = int(0)\n",
    "    if isinstance(in_array, np.ma.MaskedArray):\n",
    "        binary_array = np.ma.masked_array(binary_array, in_array.mask).astype('uint8')\n",
    "    return binary_array.astype('uint8')\n",
    "\n",
    "# takes two binary arrays where for each cell\n",
    "# 0 is not inundated and 1 is inundated\n",
    "def make_confusion_plot(truth_array, eval_array):\n",
    "    confusion_classified = np.where(\n",
    "        ((truth_array == 0) & (eval_array == 0)), 0, # TN = 0\n",
    "        np.where(\n",
    "            ((truth_array == 0) & (eval_array == 1)), 1, # FP = 1\n",
    "            np.where(\n",
    "                ((truth_array == 1) & (eval_array == 0)), 2, # FN = 2\n",
    "                np.where(\n",
    "                    ((truth_array == 1) & (eval_array == 1)), 3, # TP = 3\n",
    "                    np.nan # else assign NaN\n",
    "    ))))\n",
    "    return confusion_classified\n",
    "\n",
    "def make_confusion_stats(confusion_plot_array):\n",
    "    _, counts = np.unique(confusion_plot_array, return_counts=True)\n",
    "\n",
    "    tn = counts[0]\n",
    "    fp = counts[1]\n",
    "    fn = counts[2]\n",
    "    tp = counts[3]\n",
    "\n",
    "    prop_cor = (tp+tn)/(tn+fp+fn+tp)\n",
    "    bias_ratio = (tp+fp)/(tp+fn)\n",
    "    hit_rate = tp/(tp+fn)\n",
    "    fitness = tp/(tp+fp+fn)\n",
    "\n",
    "    print(\n",
    "        f\"{'True Negative (TN):':<20}{tn:>15}\",\n",
    "        f\"\\n{'False Positive (FP):':<20}{fp:>15}\",\n",
    "        f\"\\n{'False Negative (FN):':<20}{fn:>15}\",\n",
    "        f\"\\n{'True Postive (TP):':<20}{tp:>15}\",\n",
    "        \"\\n\",\n",
    "        f\"\\n{'Proportion Correct:':<20}{round(prop_cor,4):>15}\",\n",
    "        f\"\\n{'Bias Ratio:':<20}{round(bias_ratio,4):>15}\",\n",
    "        f\"\\n{'Hit Rate:':<20}{round(hit_rate,4):>15}\",\n",
    "        f\"\\n{'Fitness':<20}{round(fitness,4):>15}\"\n",
    "    )\n",
    "\n",
    "\n",
    "def imshow_binary_array(in_array, save_path):\n",
    "    fig, ax = plt.subplots()\n",
    "\n",
    "    cax = ax.imshow(\n",
    "        in_array,\n",
    "        vmin = 0,\n",
    "        vmax = 1,\n",
    "        cmap = binary_cmap\n",
    "        )\n",
    "\n",
    "    cbar = fig.colorbar(\n",
    "        cax,\n",
    "        ticks=[0,.25,0.5,0.75,1],\n",
    "        ax=ax,\n",
    "        fraction=0.046,\n",
    "        pad=0.03\n",
    "        )\n",
    "\n",
    "    cbar.ax.set_yticklabels(\n",
    "        ['','Not inundated','','Inundated',''],\n",
    "        rotation=90,\n",
    "        va='center' # set vertical alignment\n",
    "        )\n",
    "\n",
    "    if save_path is not None:\n",
    "        fig.tight_layout()\n",
    "        plt.savefig(save_path, facecolor = 'w')\n",
    "        \n",
    "    plt.show()\n",
    "\n",
    "def imshow_confusion(in_array, save_path):\n",
    "    fig, ax = plt.subplots()\n",
    "\n",
    "    cax = ax.imshow(\n",
    "        in_array,\n",
    "        vmin = 0,\n",
    "        vmax = 3,\n",
    "        cmap = confusion_cmap\n",
    "        )\n",
    "\n",
    "    cbar = fig.colorbar(\n",
    "        cax,\n",
    "        ticks=np.arange(0,4,0.375),\n",
    "        ax=ax,\n",
    "        fraction=0.046,\n",
    "        pad=0.03\n",
    "        )\n",
    "\n",
    "    cbar.ax.set_yticklabels(\n",
    "        ['', 'TN', '', 'FP', '', 'FN', '', 'TP', '','',''],\n",
    "        rotation=90,\n",
    "        va = 'center' # centered vertical alignment\n",
    "        )\n",
    "\n",
    "    if save_path is not None:\n",
    "        fig.tight_layout()\n",
    "        plt.savefig(save_path, facecolor = 'w')\n",
    "        \n",
    "    plt.show()\n",
    "\n",
    "def make_confusion_stats_debug(confusion_plot_array):\n",
    "    tp_is_zero = False\n",
    "\n",
    "    _, counts = np.unique(confusion_plot_array, return_counts=True)\n",
    "\n",
    "    tn = counts[0]\n",
    "    fp = counts[1]\n",
    "    fn = counts[2]\n",
    "\n",
    "    if len(counts) < 4:\n",
    "        tp = 0\n",
    "        tp_is_zero = True\n",
    "\n",
    "    prop_cor = (tp+tn)/(tn+fp+fn+tp)\n",
    "    bias_ratio = (tp+fp)/(tp+fn)\n",
    "    hit_rate = tp/(tp+fn)\n",
    "    fitness = tp/(tp+fp+fn)\n",
    "\n",
    "    print(\n",
    "        f\"{'True Negative (TN):':<20}{tn:>15}\",\n",
    "        f\"\\n{'False Positive (FP):':<20}{fp:>15}\",\n",
    "        f\"\\n{'False Negative (FN):':<20}{fn:>15}\",\n",
    "        f\"\\n{'True Postive (TP):':<20}{tp:>15}\",\n",
    "        \"\\n\",\n",
    "        f\"\\n{'Proportion Correct:':<20}{round(prop_cor,4):>15}\",\n",
    "        f\"\\n{'Bias Ratio:':<20}{round(bias_ratio,4):>15}\",\n",
    "        f\"\\n{'Hit Rate:':<20}{round(hit_rate,4):>15}\",\n",
    "        f\"\\n{'Fitness':<20}{round(fitness,4):>15}\"\n",
    "    )\n",
    "\n",
    "    return counts, tp_is_zero"
   ]
  },
  {
   "cell_type": "markdown",
   "metadata": {},
   "source": [
    "### Compound - Sep 14"
   ]
  },
  {
   "cell_type": "code",
   "execution_count": 3,
   "metadata": {},
   "outputs": [
    {
     "name": "stdout",
     "output_type": "stream",
     "text": [
      "True Negative (TN):       148231495 \n",
      "False Positive (FP):        8501014 \n",
      "False Negative (FN):        2445921 \n",
      "True Postive (TP):         12564667 \n",
      " \n",
      "Proportion Correct:          0.9363 \n",
      "Bias Ratio:                  1.4034 \n",
      "Hit Rate:                    0.8371 \n",
      "Fitness                      0.5344\n"
     ]
    }
   ],
   "source": [
    "compound_inun = rio.open('data_github/compound_inun_SEP14_alpha1.tif','r')\n",
    "compound_inun_array = compound_inun.read(1,masked=True)\n",
    "compound_inun_array_binary = make_binary(compound_inun_array)\n",
    "\n",
    "SAR_inun = rio.open('data_github/SAR_SEP14_masked_projUTM18n.tif','r')\n",
    "# resample band 1 of SAR_inun to shape of compound_inun\n",
    "# with nearest neighbor interpolation\n",
    "SAR_inun_array = SAR_inun.read(\n",
    "    1,\n",
    "    masked=True,\n",
    "    out_shape=(\n",
    "        compound_inun_array_binary.shape[0],\n",
    "        compound_inun_array_binary.shape[1]\n",
    "    ),\n",
    "    resampling=Resampling.nearest\n",
    ")\n",
    "\n",
    "# assert compound inundation array and SAR inundation array have same shape\n",
    "assert np.equal(\n",
    "    compound_inun_array_binary.shape,\n",
    "    SAR_inun_array.shape\n",
    "    ).all()\n",
    "\n",
    "confusion_SAR_compound = make_confusion_plot(SAR_inun_array, compound_inun_array_binary)\n",
    "\n",
    "make_confusion_stats(confusion_SAR_compound)"
   ]
  },
  {
   "cell_type": "markdown",
   "metadata": {},
   "source": [
    "### Inland - Sep 14"
   ]
  },
  {
   "cell_type": "code",
   "execution_count": 4,
   "metadata": {},
   "outputs": [
    {
     "name": "stdout",
     "output_type": "stream",
     "text": [
      "True Negative (TN):       155325853 \n",
      "False Positive (FP):         866006 \n",
      "False Negative (FN):       14295730 \n",
      "True Postive (TP):           527720 \n",
      " \n",
      "Proportion Correct:          0.9113 \n",
      "Bias Ratio:                   0.094 \n",
      "Hit Rate:                    0.0356 \n",
      "Fitness                      0.0336\n"
     ]
    }
   ],
   "source": [
    "riv_inun = rio.open('data_github/030202_201809140600_depth_map_projUTM18n.tif','r')\n",
    "riv_inun_array = riv_inun.read(1,masked=True)\n",
    "riv_inun_array_binary = make_binary(riv_inun_array)\n",
    "\n",
    "SAR_inun = rio.open('data_github/SAR_SEP14_masked_projUTM18n.tif','r')\n",
    "# resample band 1 of SAR_inun to shape of compound_inun\n",
    "# with nearest neighbor interpolation\n",
    "SAR_inun_array = SAR_inun.read(\n",
    "    1,\n",
    "    masked=True,\n",
    "    out_shape=(\n",
    "        riv_inun_array_binary.shape[0],\n",
    "        riv_inun_array_binary.shape[1]\n",
    "    ),\n",
    "    resampling=Resampling.nearest\n",
    ")\n",
    "\n",
    "# assert compound inundation array and SAR inundation array have same shape\n",
    "assert np.equal(\n",
    "    riv_inun_array_binary.shape,\n",
    "    SAR_inun_array.shape\n",
    "    ).all()\n",
    "\n",
    "confusion_SAR_riv = make_confusion_plot(SAR_inun_array, riv_inun_array_binary)\n",
    "\n",
    "make_confusion_stats(confusion_SAR_riv)"
   ]
  },
  {
   "cell_type": "markdown",
   "metadata": {},
   "source": [
    "### Coastal - Sep 14"
   ]
  },
  {
   "cell_type": "code",
   "execution_count": 5,
   "metadata": {},
   "outputs": [
    {
     "name": "stdout",
     "output_type": "stream",
     "text": [
      "True Negative (TN):       148654132 \n",
      "False Positive (FP):        8078377 \n",
      "False Negative (FN):        2451487 \n",
      "True Postive (TP):         12559101 \n",
      " \n",
      "Proportion Correct:          0.9387 \n",
      "Bias Ratio:                  1.3749 \n",
      "Hit Rate:                    0.8367 \n",
      "Fitness                      0.5439\n"
     ]
    }
   ],
   "source": [
    "surge_inun = rio.open('data_github/florence_surge_nhc_max_internal_mask.tif','r')\n",
    "surge_inun_array = surge_inun.read(1,masked=True)\n",
    "surge_inun_array_binary = make_binary(surge_inun_array)\n",
    "\n",
    "SAR_inun = rio.open('data_github/SAR_SEP14_masked_projUTM18n.tif','r')\n",
    "# resample band 1 of SAR_inun to shape of compound_inun\n",
    "# with nearest neighbor interpolation\n",
    "SAR_inun_array = SAR_inun.read(\n",
    "    1,\n",
    "    masked=True,\n",
    "    out_shape=(\n",
    "        surge_inun_array_binary.shape[0],\n",
    "        surge_inun_array_binary.shape[1]\n",
    "    ),\n",
    "    resampling=Resampling.nearest\n",
    ")\n",
    "\n",
    "# assert compound inundation array and SAR inundation array have same shape\n",
    "assert np.equal(\n",
    "    surge_inun_array_binary.shape,\n",
    "    SAR_inun_array.shape\n",
    "    ).all()\n",
    "\n",
    "confusion_SAR_surge = make_confusion_plot(SAR_inun_array, surge_inun_array_binary)\n",
    "\n",
    "make_confusion_stats(confusion_SAR_surge)"
   ]
  },
  {
   "cell_type": "markdown",
   "metadata": {},
   "source": [
    "### Compound - Sep 19"
   ]
  },
  {
   "cell_type": "code",
   "execution_count": 6,
   "metadata": {},
   "outputs": [
    {
     "name": "stdout",
     "output_type": "stream",
     "text": [
      "True Negative (TN):       128172843 \n",
      "False Positive (FP):        3528146 \n",
      "False Negative (FN):        7611399 \n",
      "True Postive (TP):           206317 \n",
      " \n",
      "Proportion Correct:          0.9202 \n",
      "Bias Ratio:                  0.4777 \n",
      "Hit Rate:                    0.0264 \n",
      "Fitness                      0.0182\n"
     ]
    }
   ],
   "source": [
    "compound_inun = rio.open('data_github/compound_inun_SEP19_alpha1.tif','r')\n",
    "compound_inun_array = compound_inun.read(1,masked=True)\n",
    "compound_inun_array_binary = make_binary(compound_inun_array)\n",
    "\n",
    "SAR_inun = rio.open('data_github/SAR_19SEP_clipped_proj_extr_msk.tif','r')\n",
    "# resample band 1 of SAR_inun to shape of compound_inun\n",
    "# with nearest neighbor interpolation\n",
    "SAR_inun_array = SAR_inun.read(\n",
    "    1,\n",
    "    masked=True,\n",
    "    out_shape=(\n",
    "        compound_inun_array_binary.shape[0],\n",
    "        compound_inun_array_binary.shape[1]\n",
    "    ),\n",
    "    resampling=Resampling.nearest\n",
    ")\n",
    "\n",
    "# assert compound inundation array and SAR inundation array have same shape\n",
    "assert np.equal(\n",
    "    compound_inun_array_binary.shape,\n",
    "    SAR_inun_array.shape\n",
    "    ).all()\n",
    "\n",
    "confusion_SAR_compound = make_confusion_plot(SAR_inun_array, compound_inun_array_binary)\n",
    "\n",
    "make_confusion_stats(confusion_SAR_compound)"
   ]
  },
  {
   "cell_type": "markdown",
   "metadata": {},
   "source": [
    "### Inland - Sep 19"
   ]
  },
  {
   "cell_type": "code",
   "execution_count": 7,
   "metadata": {},
   "outputs": [
    {
     "name": "stdout",
     "output_type": "stream",
     "text": [
      "True Negative (TN):       161706316 \n",
      "False Positive (FP):        3528494 \n",
      "False Negative (FN):        9590943 \n",
      "True Postive (TP):           205973 \n",
      " \n",
      "Proportion Correct:           0.925 \n",
      "Bias Ratio:                  0.3812 \n",
      "Hit Rate:                     0.021 \n",
      "Fitness                      0.0155\n"
     ]
    }
   ],
   "source": [
    "riv_inun = rio.open('data_github/030202_201809192100_depth_map_projUTM18n.tif','r')\n",
    "riv_inun_array = riv_inun.read(1,masked=True)\n",
    "riv_inun_array_binary = make_binary(riv_inun_array)\n",
    "\n",
    "SAR_inun = rio.open('data_github/SAR_19SEP_clipped_proj_extr_msk.tif','r')\n",
    "# resample band 1 of SAR_inun to shape of compound_inun\n",
    "# with nearest neighbor interpolation\n",
    "SAR_inun_array = SAR_inun.read(\n",
    "    1,\n",
    "    masked=True,\n",
    "    out_shape=(\n",
    "        riv_inun_array_binary.shape[0],\n",
    "        riv_inun_array_binary.shape[1]\n",
    "    ),\n",
    "    resampling=Resampling.nearest\n",
    ")\n",
    "\n",
    "# assert compound inundation array and SAR inundation array have same shape\n",
    "assert np.equal(\n",
    "    riv_inun_array_binary.shape,\n",
    "    SAR_inun_array.shape\n",
    "    ).all()\n",
    "\n",
    "confusion_SAR_riv = make_confusion_plot(SAR_inun_array, riv_inun_array_binary)\n",
    "\n",
    "make_confusion_stats(confusion_SAR_riv)"
   ]
  },
  {
   "cell_type": "markdown",
   "metadata": {},
   "source": [
    "### Coastal - Sep 19"
   ]
  },
  {
   "cell_type": "code",
   "execution_count": 11,
   "metadata": {},
   "outputs": [
    {
     "name": "stdout",
     "output_type": "stream",
     "text": [
      "True Negative (TN):       131700989 \n",
      "False Positive (FP):        7817716 \n",
      "False Negative (FN):      426757731 \n",
      "True Postive (TP):                0 \n",
      " \n",
      "Proportion Correct:          0.2326 \n",
      "Bias Ratio:                  0.0183 \n",
      "Hit Rate:                       0.0 \n",
      "Fitness                         0.0\n"
     ]
    }
   ],
   "source": [
    "surge_inun = rio.open('data_github/inun_surge_201809192100.tif','r')\n",
    "surge_inun_array = surge_inun.read(1,masked=True)\n",
    "surge_inun_array_binary = make_binary(surge_inun_array)\n",
    "\n",
    "SAR_inun = rio.open('data_github/SAR_19SEP_clipped_proj_extr_msk.tif','r')\n",
    "# resample band 1 of SAR_inun to shape of compound_inun\n",
    "# with nearest neighbor interpolation\n",
    "SAR_inun_array = SAR_inun.read(\n",
    "    1,\n",
    "    masked=True,\n",
    "    out_shape=(\n",
    "        surge_inun_array_binary.shape[0],\n",
    "        surge_inun_array_binary.shape[1]\n",
    "    ),\n",
    "    resampling=Resampling.nearest\n",
    ")\n",
    "\n",
    "# assert compound inundation array and SAR inundation array have same shape\n",
    "assert np.equal(\n",
    "    surge_inun_array_binary.shape,\n",
    "    SAR_inun_array.shape\n",
    "    ).all()\n",
    "\n",
    "confusion_SAR_surge = make_confusion_plot(SAR_inun_array, surge_inun_array_binary)\n",
    "\n",
    "counts, tp_is_zero = make_confusion_stats_debug(confusion_SAR_surge)"
   ]
  },
  {
   "cell_type": "code",
   "execution_count": 12,
   "metadata": {},
   "outputs": [
    {
     "data": {
      "text/plain": [
       "(array([131700989,   7817716, 426757731]), True)"
      ]
     },
     "execution_count": 12,
     "metadata": {},
     "output_type": "execute_result"
    }
   ],
   "source": [
    "counts, tp_is_zero"
   ]
  }
 ],
 "metadata": {
  "kernelspec": {
   "display_name": "Python 3.10.4 ('gis-env')",
   "language": "python",
   "name": "python3"
  },
  "language_info": {
   "codemirror_mode": {
    "name": "ipython",
    "version": 3
   },
   "file_extension": ".py",
   "mimetype": "text/x-python",
   "name": "python",
   "nbconvert_exporter": "python",
   "pygments_lexer": "ipython3",
   "version": "3.10.4"
  },
  "orig_nbformat": 4,
  "vscode": {
   "interpreter": {
    "hash": "48f3b9be3b5076e94cfc9ab84ea912a731edd81842a0d22e5457423048893ec1"
   }
  }
 },
 "nbformat": 4,
 "nbformat_minor": 2
}
