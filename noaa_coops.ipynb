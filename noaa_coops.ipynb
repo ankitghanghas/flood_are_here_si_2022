{
 "cells": [
  {
   "cell_type": "code",
   "execution_count": 8,
   "metadata": {},
   "outputs": [],
   "source": [
    "import noaa_coops as nc\n",
    "from pprint import pprint"
   ]
  },
  {
   "cell_type": "code",
   "execution_count": 9,
   "metadata": {},
   "outputs": [],
   "source": [
    "beaufort = nc.Station(8656483)\n",
    "df_water_levels_hl = beaufort.get_data(\n",
    "    begin_date=\"19770101\",\n",
    "    end_date=\"20220706\",\n",
    "    product=\"high_low\",\n",
    "    datum=\"NAVD\",\n",
    "    units=\"metric\",\n",
    "    time_zone=\"gmt\"\n",
    "    )"
   ]
  },
  {
   "cell_type": "code",
   "execution_count": 10,
   "metadata": {},
   "outputs": [
    {
     "data": {
      "text/plain": [
       "1.55"
      ]
     },
     "execution_count": 10,
     "metadata": {},
     "output_type": "execute_result"
    }
   ],
   "source": [
    "df_water_levels_hl['HH_water_level'].max()"
   ]
  },
  {
   "cell_type": "code",
   "execution_count": 11,
   "metadata": {},
   "outputs": [],
   "source": [
    "df_water_levels_hrly = beaufort.get_data(\n",
    "    begin_date=\"19770101\",\n",
    "    end_date=\"20220706\",\n",
    "    product=\"hourly_height\",\n",
    "    datum=\"NAVD\",\n",
    "    units=\"metric\",\n",
    "    time_zone=\"gmt\"\n",
    "    )"
   ]
  },
  {
   "cell_type": "code",
   "execution_count": 13,
   "metadata": {},
   "outputs": [
    {
     "data": {
      "text/plain": [
       "1.569"
      ]
     },
     "execution_count": 13,
     "metadata": {},
     "output_type": "execute_result"
    }
   ],
   "source": [
    "df_water_levels_hrly['water_level'].max()"
   ]
  },
  {
   "cell_type": "code",
   "execution_count": null,
   "metadata": {},
   "outputs": [],
   "source": []
  }
 ],
 "metadata": {
  "kernelspec": {
   "display_name": "Python 3.9.6 ('py39': conda)",
   "language": "python",
   "name": "python3"
  },
  "language_info": {
   "codemirror_mode": {
    "name": "ipython",
    "version": 3
   },
   "file_extension": ".py",
   "mimetype": "text/x-python",
   "name": "python",
   "nbconvert_exporter": "python",
   "pygments_lexer": "ipython3",
   "version": "3.9.6"
  },
  "orig_nbformat": 4,
  "vscode": {
   "interpreter": {
    "hash": "3753184119259c2a1c0cad55aa5cc8332d7ec446979ada003013bc6c876eea44"
   }
  }
 },
 "nbformat": 4,
 "nbformat_minor": 2
}
