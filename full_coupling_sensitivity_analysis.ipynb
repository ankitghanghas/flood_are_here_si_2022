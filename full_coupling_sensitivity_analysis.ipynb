{
 "cells": [
  {
   "cell_type": "markdown",
   "metadata": {},
   "source": [
    "### Imports and configuration"
   ]
  },
  {
   "cell_type": "code",
   "execution_count": null,
   "metadata": {},
   "outputs": [],
   "source": [
    "import numpy as np\n",
    "import os\n",
    "import pandas as pd\n",
    "import rasterio as rio\n",
    "\n",
    "from glob import glob\n",
    "from pathlib import Path"
   ]
  },
  {
   "cell_type": "markdown",
   "metadata": {},
   "source": [
    "### Helper function"
   ]
  },
  {
   "cell_type": "code",
   "execution_count": null,
   "metadata": {},
   "outputs": [],
   "source": [
    "def couple_transition_anim(surge_inun, riv_inun, ratio_array, mask, alpha):\n",
    "    ''' \n",
    "    return array with inundation zones: 0-coastal, 1-hydrologic, 2-transition\n",
    "    '''\n",
    "    compound_inun = np.where(\n",
    "        (ratio_array > 1) & (surge_inun != 0), # coastal zone\n",
    "        0,\n",
    "        np.where(\n",
    "            (ratio_array <= alpha*riv_inun) & (riv_inun != 0), # hydrologic zone\n",
    "            1,\n",
    "            np.where(\n",
    "                (ratio_array <= 1) & (ratio_array > alpha*riv_inun) & (surge_inun != 0) & (riv_inun != 0), # transition zone\n",
    "                2,\n",
    "                np.nan, # else assign NaN\n",
    "        )))\n",
    "\n",
    "    return np.ma.masked_array(compound_inun,mask)"
   ]
  },
  {
   "cell_type": "markdown",
   "metadata": {},
   "source": [
    "### Save data for plots"
   ]
  },
  {
   "cell_type": "code",
   "execution_count": null,
   "metadata": {},
   "outputs": [],
   "source": [
    "surge_paths = sorted(glob('data_github\\\\sensitivity_data\\\\transformed\\\\*_m_gdal.tif'))\n",
    "riv_paths = sorted(glob('data_github\\\\sensitivity_data\\\\transformed\\\\*_map_gdal.tif'))\n",
    "riv_names = [riv_path.split('\\\\')[-1][7:17] for riv_path in riv_paths]\n",
    "\n",
    "alphalist = [0.1, 0.4]\n",
    "\n",
    "cols = ['riv_datetime','surge_h','alpha_val','n_coastal','n_hydro','n_trans']\n",
    "df = pd.DataFrame(columns=cols)\n",
    "\n",
    "# have a row for each combination of riv_datetime, surge_h, and alpha_val\n",
    "# 22 items repeated 36 * 2 times\n",
    "riv_rows = np.repeat(riv_names, len(surge_paths) * len(alphalist))\n",
    "df['riv_datetime'] = riv_rows\n",
    "prev_riv_path = None\n",
    "riv_inun = None\n",
    "i = 0\n",
    "w_msk = ''\n",
    "for riv_path in riv_paths:\n",
    "    # riv_name = riv_path.split('\\\\')[-1] # file name of riverine inundation\n",
    "    # riv_date = riv_name[7:17] # YYYYMMDDHH datetime of riverine inundation\n",
    "\n",
    "    if riv_path != prev_riv_path:\n",
    "        del(riv_inun)\n",
    "        with rio.open(riv_path) as ds_in:\n",
    "            riv_inun = ds_in.read(1, masked=True)\n",
    "        riv_inun[riv_inun>3.4e+38] = np.nan # set nodata\n",
    "        riv_inun[riv_inun<0] = np.nan\n",
    "    prev_riv_path = riv_path\n",
    "\n",
    "    for surge_path in surge_paths:\n",
    "        surge_name = surge_path.split('\\\\')[-1] # file name of surge\n",
    "        surge_h_val = surge_name[-13:-11] # #.# height of surge in meters\n",
    "\n",
    "        # open and clean raster datasets\n",
    "        with rio.open(surge_path) as ds_in:\n",
    "            surge_inun = ds_in.read(1, masked=True)\n",
    "            surge_inun_profile = ds_in.profile\n",
    "        if w_msk == '':\n",
    "            # save mask, will get wiped out on next lines\n",
    "            # only need to do once\n",
    "            msk = surge_inun.copy().mask \n",
    "            w_msk = (~surge_inun.mask * 255).astype('uint8')\n",
    "        surge_inun[surge_inun>3.4e+38] = np.nan # set nodata\n",
    "        surge_inun[surge_inun < 0] = np.nan\n",
    "\n",
    "        assert np.equal(\n",
    "            surge_inun.shape, riv_inun.shape\n",
    "        ).all()\n",
    "\n",
    "        ratio_array = surge_inun / riv_inun \n",
    "\n",
    "        for alpha in alphalist:\n",
    "\n",
    "            coupled = couple_transition_anim(\n",
    "                surge_inun = surge_inun,\n",
    "                riv_inun = riv_inun,\n",
    "                ratio_array = ratio_array,\n",
    "                mask = msk,\n",
    "                alpha = alpha \n",
    "                )\n",
    "\n",
    "            tmp, counts = np.unique(coupled, return_counts=True)\n",
    "\n",
    "            if len(counts) == 1:\n",
    "                n_coastal = counts[0]\n",
    "            elif len(counts) == 2:\n",
    "                n_coastal = counts[0]\n",
    "                n_hydro = counts[1]\n",
    "            elif len(counts) > 2:\n",
    "                n_coastal = counts[0]\n",
    "                n_hydro = counts[1]\n",
    "                n_trans = counts[2]\n",
    "\n",
    "            # df.loc[i, 'riv_datetime'] = riv_date\n",
    "            df.loc[i, 'surge_h'] = surge_h_val\n",
    "            df.loc[i, 'alpha_val'] = alpha                \n",
    "            df.loc[i, 'n_coastal'] = n_coastal\n",
    "            df.loc[i, 'n_hydro'] = n_hydro\n",
    "            df.loc[i, 'n_trans'] = n_trans\n",
    "\n",
    "            # just in case\n",
    "            tmp_path = Path('data_github/sensitivity_data/tmp.csv')\n",
    "            df.copy().to_csv(tmp_path, sep=',')\n",
    "\n",
    "            with rio.Env(GDAL_TIFF_INTERNAL_MASK=True):\n",
    "                with rio.open(\n",
    "                    \"data_github/sensitivity_data/coupled/\" \\\n",
    "                    f\"{str(df.loc[i,'riv_datetime'])}_{str(df.loc[i,'surge_h'])}_{str(df.loc[i,'alpha_val']).replace('.','')}.tif\", \n",
    "                    'w', **surge_inun_profile) as ds_out:\n",
    "                    ds_out.write(coupled,1)\n",
    "                    ds_out.write_mask(w_msk)\n",
    "\n",
    "            del(coupled)\n",
    "            i += 1\n",
    "\n",
    "        del(surge_inun, ratio_array, tmp)\n",
    "\n",
    "# save final dataframe\n",
    "df.to_csv(\n",
    "    'data_github/sensitivity_data/full_sensitivity_analysis.csv', sep=','\n",
    "    )\n"
   ]
  },
  {
   "cell_type": "code",
   "execution_count": null,
   "metadata": {},
   "outputs": [],
   "source": []
  }
 ],
 "metadata": {
  "kernelspec": {
   "display_name": "Python 3.9.6 ('maps': conda)",
   "language": "python",
   "name": "python3"
  },
  "language_info": {
   "codemirror_mode": {
    "name": "ipython",
    "version": 3
   },
   "file_extension": ".py",
   "mimetype": "text/x-python",
   "name": "python",
   "nbconvert_exporter": "python",
   "pygments_lexer": "ipython3",
   "version": "3.9.6"
  },
  "orig_nbformat": 4,
  "vscode": {
   "interpreter": {
    "hash": "c6e3e3195c79ae2d26dd35637317ded0b742a6d99f3ed098259b24f25302f4d0"
   }
  }
 },
 "nbformat": 4,
 "nbformat_minor": 2
}
