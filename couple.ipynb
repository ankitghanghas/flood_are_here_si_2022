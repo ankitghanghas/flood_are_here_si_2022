{
 "cells": [
  {
   "cell_type": "code",
   "execution_count": 1,
   "metadata": {},
   "outputs": [],
   "source": [
    "%matplotlib inline\n",
    "\n",
    "import matplotlib\n",
    "import matplotlib.pyplot as plt\n",
    "import numpy as np\n",
    "import rasterio as rio\n",
    "\n",
    "from rasterio.warp import calculate_default_transform, reproject, Resampling\n",
    "\n",
    "matplotlib.rc('figure', dpi=125)"
   ]
  },
  {
   "cell_type": "code",
   "execution_count": 2,
   "metadata": {},
   "outputs": [],
   "source": [
    "# proj crs NAD 1983 UTM Zone 18N\n",
    "# geographic crs NAD 1983\n",
    "\n",
    "def couple(surge_fpath, riv_fpath, compound_fpath):\n",
    "\n",
    "    with rio.open(surge_fpath) as ds_in:\n",
    "        surge_inun = ds_in.read(1, masked=True)\n",
    "        surge_inun_profile = ds_in.profile\n",
    "    msk = surge_inun.copy().mask # save mask, will get wiped out on next lines\n",
    "    surge_inun[surge_inun>3.4e+38] = np.nan # set nodata\n",
    "    surge_inun[surge_inun < 0] = 0\n",
    "    surge_inun = np.ma.masked_array(surge_inun, msk)\n",
    "    # save mask with GDAL convetion for writing later\n",
    "    # https://rasterio.readthedocs.io/en/latest/topics/masks.html\n",
    "    w_msk = (~surge_inun.mask * 255).astype('uint8')\n",
    "\n",
    "    with rio.open(riv_fpath) as ds_in:\n",
    "        riv_inun = ds_in.read(1, masked=True)\n",
    "    msk = riv_inun.copy().mask # save mask, will get wiped out on next lines\n",
    "    riv_inun[riv_inun>3.4e+38] = np.nan # set nodata\n",
    "    riv_inun[riv_inun<0] = 0\n",
    "    riv_inun = np.ma.masked_array(riv_inun, msk)\n",
    "\n",
    "    # give riv_inun one extra row and col to match shapes with surge_inun\n",
    "    newrow = np.empty(riv_inun.shape[1])\n",
    "    newrow.fill(np.nan)\n",
    "    riv_inun = np.vstack([riv_inun,newrow])\n",
    "\n",
    "    newcol = np.empty([riv_inun.shape[0],1])\n",
    "    newcol.fill(np.nan)\n",
    "    riv_inun = np.hstack([riv_inun,newcol])\n",
    "\n",
    "    # avoid divide by zero errors\n",
    "    ratio_adj = 0.001 # 0.001 m = 0.04 in\n",
    "    ratio_array = (surge_inun + ratio_adj) / (riv_inun + ratio_adj)\n",
    "\n",
    "    # calculate compound inundation accounting for transition zone\n",
    "    compound_inun = np.where(ratio_array>1,surge_inun,\n",
    "                        np.where(ratio_array<0.5,riv_inun,\n",
    "                            ((np.maximum(surge_inun,riv_inun) + (surge_inun+riv_inun))/2)\n",
    "                                ))\n",
    "\n",
    "    # write data\n",
    "    with rio.open(compound_fpath, 'w', **surge_inun_profile) as ds_out:\n",
    "        ds_out.write(compound_inun,1)\n",
    "        ds_out.write_mask(w_msk)\n",
    "\n",
    "    return compound_inun"
   ]
  },
  {
   "cell_type": "code",
   "execution_count": 3,
   "metadata": {},
   "outputs": [],
   "source": [
    "# make compound inundation maps corresponding to satellite image timestamps\n",
    "\n",
    "_ = couple(\n",
    "    'data_github/inun_surge_201809020600.tif',\n",
    "    'data_github/030202_201809020600_depth_map_projUTM18n.tif',\n",
    "    'data_github/compound_inun_201809020600.tif'\n",
    ")\n",
    "\n",
    "_ = couple(\n",
    "    'data_github/florence_surge_nhc_max.tif',\n",
    "    'data_github/030202_201809140600_depth_map_projUTM18n.tif',\n",
    "    'data_github/compound_inun_201809140600.tif'\n",
    ")\n",
    "\n",
    "_ = couple(\n",
    "    'data_github/inun_surge_201809192100.tif',\n",
    "    'data_github/030202_201809192100_depth_map_projUTM18n.tif',\n",
    "    'data_github/compound_inun_201809192100.tif'\n",
    ")"
   ]
  }
 ],
 "metadata": {
  "kernelspec": {
   "display_name": "Python 3.10.4 ('gis-env')",
   "language": "python",
   "name": "python3"
  },
  "language_info": {
   "codemirror_mode": {
    "name": "ipython",
    "version": 3
   },
   "file_extension": ".py",
   "mimetype": "text/x-python",
   "name": "python",
   "nbconvert_exporter": "python",
   "pygments_lexer": "ipython3",
   "version": "3.10.4"
  },
  "orig_nbformat": 4,
  "vscode": {
   "interpreter": {
    "hash": "48f3b9be3b5076e94cfc9ab84ea912a731edd81842a0d22e5457423048893ec1"
   }
  }
 },
 "nbformat": 4,
 "nbformat_minor": 2
}
