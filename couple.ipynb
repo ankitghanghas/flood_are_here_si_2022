{
 "cells": [
  {
   "cell_type": "code",
   "execution_count": 1,
   "metadata": {},
   "outputs": [],
   "source": [
    "import numpy as np\n",
    "import rasterio as rio"
   ]
  },
  {
   "cell_type": "code",
   "execution_count": 2,
   "metadata": {},
   "outputs": [],
   "source": [
    "# proj crs NAD 1983 UTM Zone 18N\n",
    "# geographic crs NAD 1983\n",
    "\n",
    "with rio.open('data_github/030202_201809190900_depth_map_projUTM18n.tif') as ds_in:\n",
    "    riv_inun = ds_in.read(1, masked=True)\n",
    "    riv_inun[riv_inun>3.4e+38] = np.nan # set nodata\n",
    "    riv_inun[riv_inun<0] = 0\n",
    "    riv_inun_profile = ds_in.profile\n",
    "\n",
    "with rio.open('data_github/florence_surge_max_compr_lzw.tif') as ds_in:\n",
    "    surge_inun = ds_in.read(1, masked=True)\n",
    "    surge_inun[surge_inun < 0] = 0\n",
    "    surge_inun_profile = ds_in.profile\n",
    "\n",
    "# give riv_inun one extra row and col to match shapes with surge_inun\n",
    "newrow = np.empty(riv_inun.shape[1])\n",
    "newrow.fill(np.nan)\n",
    "riv_inun = np.vstack([riv_inun,newrow])\n",
    "\n",
    "newcol = np.empty([riv_inun.shape[0],1])\n",
    "newcol.fill(np.nan)\n",
    "riv_inun = np.hstack([riv_inun,newcol])"
   ]
  },
  {
   "cell_type": "code",
   "execution_count": 3,
   "metadata": {},
   "outputs": [],
   "source": [
    "ratio_adj = 0.001 # 0.001 m = 0.04 in\n",
    "ratio_array = (surge_inun + ratio_adj) / (riv_inun + ratio_adj)"
   ]
  },
  {
   "cell_type": "code",
   "execution_count": 4,
   "metadata": {},
   "outputs": [],
   "source": [
    "compound_inun = np.where(ratio_array>1,surge_inun,\n",
    "                   np.where(ratio_array<0.5,riv_inun,\n",
    "                      ((np.maximum(surge_inun,riv_inun) + (surge_inun+riv_inun))/2)\n",
    "                         ))"
   ]
  },
  {
   "cell_type": "code",
   "execution_count": 5,
   "metadata": {},
   "outputs": [],
   "source": [
    "# https://rasterio.readthedocs.io/en/latest/topics/masks.html\n",
    "msk = (~surge_inun.mask * 255).astype('uint8')\n",
    "surge_inun_profile['compress'] = 'lzw'\n",
    "with rio.open('data_github/compound_inun.tif', 'w', **surge_inun_profile) as ds_out:\n",
    "    ds_out.write(compound_inun,1)\n",
    "    ds_out.write_mask(msk)"
   ]
  }
 ],
 "metadata": {
  "kernelspec": {
   "display_name": "Python 3.9.6 ('py39': conda)",
   "language": "python",
   "name": "python3"
  },
  "language_info": {
   "codemirror_mode": {
    "name": "ipython",
    "version": 3
   },
   "file_extension": ".py",
   "mimetype": "text/x-python",
   "name": "python",
   "nbconvert_exporter": "python",
   "pygments_lexer": "ipython3",
   "version": "3.9.6"
  },
  "orig_nbformat": 4,
  "vscode": {
   "interpreter": {
    "hash": "3753184119259c2a1c0cad55aa5cc8332d7ec446979ada003013bc6c876eea44"
   }
  }
 },
 "nbformat": 4,
 "nbformat_minor": 2
}
