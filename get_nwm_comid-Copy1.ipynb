{
 "cells": [
  {
   "cell_type": "code",
   "execution_count": 1,
   "id": "e83f1512-9db8-4e9a-b1fd-664c79080b94",
   "metadata": {},
   "outputs": [
    {
     "name": "stderr",
     "output_type": "stream",
     "text": [
      "/opt/conda/lib/python3.9/site-packages/geopandas/_compat.py:111: UserWarning: The Shapely GEOS version (3.10.2-CAPI-1.16.0) is incompatible with the GEOS version PyGEOS was compiled with (3.10.1-CAPI-1.16.0). Conversions between both will be slow.\n",
      "  warnings.warn(\n",
      "ERROR 1: PROJ: proj_create_from_database: Open of /opt/conda/share/proj failed\n"
     ]
    }
   ],
   "source": [
    "import netCDF4\n",
    "import geopandas as gpd\n",
    "import numpy as np\n",
    "import pandas as pd\n",
    "import rasterio\n",
    "from numba import njit, typed, types\n",
    "\n",
    "from rasterio.mask import mask\n",
    "from rasterio.io import DatasetReader,DatasetWriter\n",
    "\n",
    "import os\n",
    "\n",
    "import warnings\n",
    "warnings.simplefilter(action='ignore', category=FutureWarning)\n",
    "os.chdir('/home/jovyan/data/aghanghas/inundation_map/outputs')\n",
    "\n",
    "\n",
    "rem='/home/jovyan/data/aghanghas/inundation_map/hand_src/010802hand.tif'\n",
    "catchments='/home/jovyan/data/aghanghas/inundation_map/hand_src/010802catchhuc.tif'"
   ]
  },
  {
   "cell_type": "code",
   "execution_count": 2,
   "id": "404d2ef7-96d0-4d63-9c4d-3950e83a5c4e",
   "metadata": {},
   "outputs": [],
   "source": [
    "comid_df=pd.read_csv('/home/jovyan/data/aghanghas/inundation_map/hand_src/010802_comid.txt', sep=\" \", usecols=[0], header=None)\n",
    "comid=comid_df[0].values.tolist()"
   ]
  },
  {
   "cell_type": "code",
   "execution_count": 3,
   "id": "0dcdff1e-53ca-4984-a037-155da645ce46",
   "metadata": {},
   "outputs": [],
   "source": [
    "def main_trib_index(comid):\n",
    "    nwm_folder='/home/jovyan/data/aghanghas/inundation_map/nwm-v2-1/'\n",
    "    f_name=\"201211071600.CHRTOUT_DOMAIN1.comp\"\n",
    "    f_path=nwm_folder+f_name\n",
    "    data=netCDF4.Dataset(f_path)  # type: ignore\n",
    "    COMID_list=data['feature_id'][:].data\n",
    "    main_index=np.searchsorted(COMID_list,comid)\n",
    "    \n",
    "    data.close()\n",
    "    return (main_index)\n",
    "\n",
    "comid_index= main_trib_index(comid)"
   ]
  },
  {
   "cell_type": "code",
   "execution_count": 4,
   "id": "cc520b3a-903f-41c0-a6f4-898c2dc377a4",
   "metadata": {},
   "outputs": [],
   "source": [
    "nwm_folder='/home/jovyan/data/aghanghas/inundation_map/nwm-v2-1/'\n",
    "f_name=\"201211071600.CHRTOUT_DOMAIN1.comp\"\n",
    "f_path=nwm_folder+f_name\n",
    "nwm_dis_all=netCDF4.Dataset(f_path)\n",
    "comid_dis=nwm_dis_all['streamflow'][comid_index].data\n",
    "src_table=pd.read_csv('/home/jovyan/data/aghanghas/inundation_map/hand_src/hydrogeo-fulltable-010802.csv', sep=\",\", usecols=['CatchId','Stage','Discharge (m3s-1)'])"
   ]
  },
  {
   "cell_type": "code",
   "execution_count": 5,
   "id": "6cb042b9-fd50-41f3-b647-50b0ad673bc7",
   "metadata": {},
   "outputs": [],
   "source": [
    "stage_dis_df=pd.DataFrame(index=comid,columns=['discharge','stage'])\n",
    "stage_dis_df['discharge']=comid_dis"
   ]
  },
  {
   "cell_type": "code",
   "execution_count": 6,
   "id": "f767d93e-1944-4941-b07c-c0d97cb01cf9",
   "metadata": {},
   "outputs": [
    {
     "name": "stderr",
     "output_type": "stream",
     "text": [
      "/tmp/ipykernel_622/2490915904.py:7: SettingWithCopyWarning: \n",
      "A value is trying to be set on a copy of a slice from a DataFrame\n",
      "\n",
      "See the caveats in the documentation: https://pandas.pydata.org/pandas-docs/stable/user_guide/indexing.html#returning-a-view-versus-a-copy\n",
      "  stage_dis_df['stage'][id]=h\n"
     ]
    }
   ],
   "source": [
    "for id in comid:\n",
    "    dis=stage_dis_df['discharge'][id]\n",
    "    sub_src_table=src_table[src_table['CatchId']==id]\n",
    "    interpolated_stage = np.interp(dis,sub_src_table.loc[:,'Discharge (m3s-1)'],sub_src_table.loc[:,'Stage'])\n",
    "    h = round(interpolated_stage,4)\n",
    "    h = types.float32(h)\n",
    "    stage_dis_df['stage'][id]=h\n",
    "    "
   ]
  },
  {
   "cell_type": "code",
   "execution_count": 7,
   "id": "04d63732-a571-42dd-ac3c-4f67c8cc566c",
   "metadata": {},
   "outputs": [],
   "source": [
    "rem = rasterio.open(rem)\n",
    "catchments = rasterio.open(catchments)"
   ]
  },
  {
   "cell_type": "code",
   "execution_count": 8,
   "id": "086c89a9-59a8-4ef6-ac03-e022a2e51fdb",
   "metadata": {},
   "outputs": [],
   "source": [
    "out_shape=rem.read(1).shape"
   ]
  },
  {
   "cell_type": "code",
   "execution_count": 9,
   "id": "3a1812c0-0543-4f72-8dfb-faa3568ceab8",
   "metadata": {},
   "outputs": [],
   "source": [
    "a1=rem.read(1).flatten()\n",
    "b1=catchments.read(1).flatten()\n",
    "indundation_array=a1.copy()"
   ]
  },
  {
   "cell_type": "code",
   "execution_count": 23,
   "id": "f982c983-e802-476a-bf03-fe8fd01017e7",
   "metadata": {},
   "outputs": [
    {
     "ename": "KeyboardInterrupt",
     "evalue": "",
     "output_type": "error",
     "traceback": [
      "\u001b[0;31m---------------------------------------------------------------------------\u001b[0m",
      "\u001b[0;31mKeyboardInterrupt\u001b[0m                         Traceback (most recent call last)",
      "Input \u001b[0;32mIn [23]\u001b[0m, in \u001b[0;36m<cell line: 1>\u001b[0;34m()\u001b[0m\n\u001b[1;32m      2\u001b[0m stage\u001b[38;5;241m=\u001b[39mstage_dis_df[\u001b[38;5;124m'\u001b[39m\u001b[38;5;124mstage\u001b[39m\u001b[38;5;124m'\u001b[39m][\u001b[38;5;28mid\u001b[39m]\n\u001b[1;32m      3\u001b[0m \u001b[38;5;28;01mif\u001b[39;00m \u001b[38;5;28mlen\u001b[39m(a1[b1\u001b[38;5;241m==\u001b[39m\u001b[38;5;28mid\u001b[39m]) \u001b[38;5;241m>\u001b[39m\u001b[38;5;241m0\u001b[39m:\n\u001b[0;32m----> 4\u001b[0m     \u001b[38;5;28;01mif\u001b[39;00m \u001b[43ma1\u001b[49m\u001b[43m[\u001b[49m\u001b[43mb1\u001b[49m\u001b[38;5;241;43m==\u001b[39;49m\u001b[38;5;28;43mid\u001b[39;49m\u001b[43m]\u001b[49m\u001b[38;5;241m.\u001b[39mmax()\u001b[38;5;241m>\u001b[39m\u001b[38;5;241m0\u001b[39m:\n\u001b[1;32m      5\u001b[0m         depth\u001b[38;5;241m=\u001b[39mstage \u001b[38;5;241m-\u001b[39m \u001b[38;5;28mabs\u001b[39m(a1[b1\u001b[38;5;241m==\u001b[39m\u001b[38;5;28mid\u001b[39m])\n\u001b[1;32m      6\u001b[0m         a1[b1\u001b[38;5;241m==\u001b[39m\u001b[38;5;28mid\u001b[39m]\u001b[38;5;241m=\u001b[39mdepth\n",
      "\u001b[0;31mKeyboardInterrupt\u001b[0m: "
     ]
    }
   ],
   "source": [
    "for id in comid:\n",
    "    stage=stage_dis_df['stage'][id]\n",
    "    if len(a1[b1==id]) >0:\n",
    "        if a1[b1==id].max()>0:\n",
    "            depth=stage - abs(a1[b1==id])\n",
    "            a1[b1==id]=depth\n",
    "a1.reshape(a1,out_shape)"
   ]
  }
 ],
 "metadata": {
  "kernelspec": {
   "display_name": "Python 3 (ipykernel)",
   "language": "python",
   "name": "python3"
  },
  "language_info": {
   "codemirror_mode": {
    "name": "ipython",
    "version": 3
   },
   "file_extension": ".py",
   "mimetype": "text/x-python",
   "name": "python",
   "nbconvert_exporter": "python",
   "pygments_lexer": "ipython3",
   "version": "3.9.12"
  }
 },
 "nbformat": 4,
 "nbformat_minor": 5
}
