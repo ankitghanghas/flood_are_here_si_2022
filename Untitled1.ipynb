{
 "cells": [
  {
   "cell_type": "code",
   "execution_count": 1,
   "id": "6c325a14-f009-4499-8cca-d55a62d369a1",
   "metadata": {},
   "outputs": [
    {
     "name": "stderr",
     "output_type": "stream",
     "text": [
      "/opt/conda/lib/python3.9/site-packages/geopandas/_compat.py:111: UserWarning: The Shapely GEOS version (3.10.2-CAPI-1.16.0) is incompatible with the GEOS version PyGEOS was compiled with (3.10.1-CAPI-1.16.0). Conversions between both will be slow.\n",
      "  warnings.warn(\n"
     ]
    }
   ],
   "source": [
    "import fim_nwm"
   ]
  },
  {
   "cell_type": "code",
   "execution_count": 2,
   "id": "3397eeb6-42b7-49c9-9c0f-60dda0566890",
   "metadata": {},
   "outputs": [
    {
     "name": "stdout",
     "output_type": "stream",
     "text": [
      "... complete\n"
     ]
    },
    {
     "data": {
      "text/plain": [
       "(['/home/jovyan/data/aghanghas/inundation_map/outputs/030202_201809180000_inundation_map.tif'],\n",
       " ['/home/jovyan/data/aghanghas/inundation_map/outputs/030202_201809180000_depth_map.tif'],\n",
       " [None])"
      ]
     },
     "execution_count": 2,
     "metadata": {},
     "output_type": "execute_result"
    }
   ],
   "source": [
    "rem='/home/jovyan/data/aghanghas/inundation_map/hand_src/030202/030202hand.tif'\n",
    "catchments='/home/jovyan/data/aghanghas/inundation_map/hand_src/030202/030202catchhuc.tif'\n",
    "catchment_poly='/home/jovyan/data/aghanghas/inundation_map/hand_src/030202/030202_catch.sqlite'\n",
    "hydro_table='/home/jovyan/data/aghanghas/inundation_map/hand_src/030202/hydrogeo-fulltable-030202.csv'\n",
    "forecast='/home/jovyan/data/aghanghas/inundation_map/nwm-v2-1/201809180000.CHRTOUT_DOMAIN1.comp'\n",
    "inundation_raster='/home/jovyan/data/aghanghas/inundation_map/outputs/030202_201809180000_inundation_map.tif'\n",
    "depth_raster='/home/jovyan/data/aghanghas/inundation_map/outputs/030202_201809180000_depth_map.tif'\n",
    "huc_6_id='030202'\n",
    "\n",
    "fim_nwm.inundate(rem=rem, catchments=catchments, catchment_poly=catchment_poly, hydro_table=hydro_table, forecast=forecast,\n",
    "             mask_type='filter',huc_6_id=huc_6_id, hucs = None, hucs_layerName = None,\n",
    "             subset_hucs = None, num_workers = 1, aggregate = False, \n",
    "             inundation_raster = inundation_raster, inundation_polygon = None,\n",
    "             depths = depth_raster, out_raster_profile = None, out_vector_profile = None,\n",
    "             src_table = None, quiet = False)"
   ]
  },
  {
   "cell_type": "code",
   "execution_count": null,
   "id": "161c2ba4-60d2-49d9-b9fd-75079a136b6c",
   "metadata": {},
   "outputs": [],
   "source": []
  }
 ],
 "metadata": {
  "kernelspec": {
   "display_name": "Python 3 (ipykernel)",
   "language": "python",
   "name": "python3"
  },
  "language_info": {
   "codemirror_mode": {
    "name": "ipython",
    "version": 3
   },
   "file_extension": ".py",
   "mimetype": "text/x-python",
   "name": "python",
   "nbconvert_exporter": "python",
   "pygments_lexer": "ipython3",
   "version": "3.9.12"
  }
 },
 "nbformat": 4,
 "nbformat_minor": 5
}
