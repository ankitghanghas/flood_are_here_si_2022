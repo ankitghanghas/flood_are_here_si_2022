{
 "cells": [
  {
   "cell_type": "markdown",
   "metadata": {},
   "source": [
    "### Imports"
   ]
  },
  {
   "cell_type": "code",
   "execution_count": 41,
   "metadata": {},
   "outputs": [],
   "source": [
    "import numpy as np\n",
    "from glob import glob\n",
    "from osgeo import gdal\n"
   ]
  },
  {
   "cell_type": "markdown",
   "metadata": {},
   "source": [
    "### Raster preprocessing before comparison\n",
    " - Clip to study area\n",
    " - Project to EPSG:26918 UTM Zone 18N\n",
    " - 10 m x 10 m cells\n",
    " - LZW compression\n",
    " - NaN nodata"
   ]
  },
  {
   "cell_type": "code",
   "execution_count": 11,
   "metadata": {},
   "outputs": [],
   "source": [
    "all_paths = []\n",
    "riv_paths = glob(\"data_github/sensitivity_data/riverine/depth/*_depth_map.tif\")\n",
    "surge_paths = glob(\"data_github/sensitivity_data/coastal/*_m.tif\")\n",
    "all_paths.extend(riv_paths)\n",
    "all_paths.extend(surge_paths)\n",
    "\n",
    "for inpath in all_paths:\n",
    "\n",
    "outpath = inpath[:-4] + \"_gdal.tif\"\n",
    "\n",
    "    clipped_raster = gdal.Warp(\n",
    "        outpath,\n",
    "        inpath,\n",
    "        xRes=10,  # 10 m resolution\n",
    "        yRes=10,\n",
    "        cutlineDSName=\"data_github/shp/nc_huc6.shp\",\n",
    "        cropToCutline=True,\n",
    "        dstNodata=np.nan,\n",
    "        dstSRS=\"EPSG:26918\",\n",
    "        creationOptions=[\n",
    "            \"COMPRESS=LZW\",\n",
    "        ],\n",
    "    )\n",
    "\n",
    "    clipped_raster = None  # close dataset\n"
   ]
  }
 ],
 "metadata": {
  "kernelspec": {
   "display_name": "Python 3.10.5 64-bit ('gis-env')",
   "language": "python",
   "name": "python3"
  },
  "language_info": {
   "codemirror_mode": {
    "name": "ipython",
    "version": 3
   },
   "file_extension": ".py",
   "mimetype": "text/x-python",
   "name": "python",
   "nbconvert_exporter": "python",
   "pygments_lexer": "ipython3",
   "version": "3.10.5"
  },
  "orig_nbformat": 4,
  "vscode": {
   "interpreter": {
    "hash": "1512dc6078f67e5d7196e51a97f019c48d6fba0eae71a351adeb26e486a76f33"
   }
  }
 },
 "nbformat": 4,
 "nbformat_minor": 2
}
