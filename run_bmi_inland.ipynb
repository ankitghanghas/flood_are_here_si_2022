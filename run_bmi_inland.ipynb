{
 "cells": [
  {
   "cell_type": "code",
   "execution_count": 1,
   "id": "a8dc2929-59c0-48aa-a32a-78cab504152e",
   "metadata": {},
   "outputs": [
    {
     "name": "stderr",
     "output_type": "stream",
     "text": [
      "/opt/conda/lib/python3.9/site-packages/geopandas/_compat.py:111: UserWarning: The Shapely GEOS version (3.10.2-CAPI-1.16.0) is incompatible with the GEOS version PyGEOS was compiled with (3.10.1-CAPI-1.16.0). Conversions between both will be slow.\n",
      "  warnings.warn(\n"
     ]
    }
   ],
   "source": [
    "import time\n",
    "import fim_nwm\n",
    "import bmi_inland_fim"
   ]
  },
  {
   "cell_type": "code",
   "execution_count": 2,
   "id": "4cc00f5e-9b87-4302-a2fc-530a46336e29",
   "metadata": {},
   "outputs": [],
   "source": [
    "map_instance = bmi_inland_fim.bmi_inland_fim()\n",
    "map_instance.initialize(cfg_file='/home/jovyan/data/aghanghas/inundation_map/config_inland_fim_030202.json', current_time_step=0)\n"
   ]
  },
  {
   "cell_type": "code",
   "execution_count": null,
   "id": "70356e97-5191-474d-ba5d-a147741ae9de",
   "metadata": {},
   "outputs": [],
   "source": [
    "map_instance.update()"
   ]
  },
  {
   "cell_type": "code",
   "execution_count": null,
   "id": "dab43a22-efa1-440d-a29b-32a912783a9a",
   "metadata": {},
   "outputs": [],
   "source": []
  }
 ],
 "metadata": {
  "kernelspec": {
   "display_name": "Python 3 (ipykernel)",
   "language": "python",
   "name": "python3"
  },
  "language_info": {
   "codemirror_mode": {
    "name": "ipython",
    "version": 3
   },
   "file_extension": ".py",
   "mimetype": "text/x-python",
   "name": "python",
   "nbconvert_exporter": "python",
   "pygments_lexer": "ipython3",
   "version": "3.9.12"
  }
 },
 "nbformat": 4,
 "nbformat_minor": 5
}
